{
  "cells": [
    {
      "cell_type": "code",
      "execution_count": 1,
      "metadata": {},
      "outputs": [],
      "source": [
        "import pandas as pd\n",
        "import os"
      ]
    },
    {
      "cell_type": "code",
      "execution_count": 2,
      "metadata": {},
      "outputs": [],
      "source": [
        "data1 = pd.read_csv(\"data-1.csv\")\n",
        "data2 = pd.read_csv(\"data-2.csv\")\n",
        "data3 = pd.read_csv(\"data-3.csv\")\n",
        "data4 = pd.read_csv(\"data-4.csv\")\n",
        "data5 = pd.read_csv(\"data-5.csv\")\n",
        "data6 = pd.read_csv(\"data-6.csv\")"
      ]
    },
    {
      "cell_type": "code",
      "execution_count": 3,
      "metadata": {},
      "outputs": [],
      "source": [
        "def get_stat(data, name):\n",
        "    stat = pd.DataFrame(\n",
        "         {\n",
        "        'meanX' : data['x'].mean(),\n",
        "        'meanY' : data['y'].mean(),\n",
        "        'stdX' : data['x'].std(),\n",
        "        'stdY' : data['y'].std(),\n",
        "        'rangeX' : str([data['x'].max(),data['x'].min()]),\n",
        "        'rangeY' : str([data['y'].max(),data['y'].min()]),\n",
        "        'r' : data.corr()['x']['y']\n",
        "    },\n",
        "    index=[name])\n",
        "    return stat"
      ]
    },
    {
      "cell_type": "code",
      "execution_count": 4,
      "metadata": {},
      "outputs": [],
      "source": [
        "# https://stackoverflow.com/questions/31247198/python-pandas-write-content-of-dataframe-into-text-file\n",
        "def write_summary(data):\n",
        "    filename = 'summary.txt'\n",
        "    with open(os.path.join(filename),'w') as outfile:\n",
        "        data.to_string(outfile)"
      ]
    },
    {
      "cell_type": "code",
      "execution_count": 5,
      "metadata": {},
      "outputs": [
        {
          "name": "stderr",
          "output_type": "stream",
          "text": [
            "/var/folders/ql/b6y7qccn4cqbp9ymy9kggg0c0000gn/T/ipykernel_23441/2308151581.py:2: FutureWarning: The frame.append method is deprecated and will be removed from pandas in a future version. Use pandas.concat instead.\n",
            "  stat_report = stat_report.append(get_stat(data2,'data-2'))\n",
            "/var/folders/ql/b6y7qccn4cqbp9ymy9kggg0c0000gn/T/ipykernel_23441/2308151581.py:3: FutureWarning: The frame.append method is deprecated and will be removed from pandas in a future version. Use pandas.concat instead.\n",
            "  stat_report = stat_report.append(get_stat(data3,'data-3'))\n",
            "/var/folders/ql/b6y7qccn4cqbp9ymy9kggg0c0000gn/T/ipykernel_23441/2308151581.py:4: FutureWarning: The frame.append method is deprecated and will be removed from pandas in a future version. Use pandas.concat instead.\n",
            "  stat_report = stat_report.append(get_stat(data4,'data-4'))\n",
            "/var/folders/ql/b6y7qccn4cqbp9ymy9kggg0c0000gn/T/ipykernel_23441/2308151581.py:5: FutureWarning: The frame.append method is deprecated and will be removed from pandas in a future version. Use pandas.concat instead.\n",
            "  stat_report = stat_report.append(get_stat(data5,'data-5'))\n",
            "/var/folders/ql/b6y7qccn4cqbp9ymy9kggg0c0000gn/T/ipykernel_23441/2308151581.py:6: FutureWarning: The frame.append method is deprecated and will be removed from pandas in a future version. Use pandas.concat instead.\n",
            "  stat_report = stat_report.append(get_stat(data6,'data-6'))\n"
          ]
        }
      ],
      "source": [
        "stat_report = get_stat(data1,'data-1')\n",
        "stat_report = stat_report.append(get_stat(data2,'data-2'))\n",
        "stat_report = stat_report.append(get_stat(data3,'data-3'))\n",
        "stat_report = stat_report.append(get_stat(data4,'data-4'))\n",
        "stat_report = stat_report.append(get_stat(data5,'data-5'))\n",
        "stat_report = stat_report.append(get_stat(data6,'data-6'))"
      ]
    },
    {
      "cell_type": "code",
      "execution_count": 6,
      "metadata": {},
      "outputs": [],
      "source": [
        "stat_report['description'] = [\"The data set consists of 100 data points with great relationship between x and y values\", \"The data set consists of 100 mostly negative datapoints hence data might be left skewed\", \"The data set consists of 300 data point in 4 clusters that mimic a well-distributed data \", \"The data set of 118 points makes SFU logo when plotted on a x-y graph\",\"The data consists of 118 data points plotted in almost straight vertical lines with less relationship between x and y\", \"The data of 100 data points is a straight line on a x-y graph with some outliers\"]"
      ]
    },
    {
      "cell_type": "code",
      "execution_count": 7,
      "metadata": {},
      "outputs": [],
      "source": [
        "write_summary(stat_report)"
      ]
    }
  ],
  "metadata": {
    "kernelspec": {
      "display_name": "base",
      "language": "python",
      "name": "python3"
    },
    "language_info": {
      "codemirror_mode": {
        "name": "ipython",
        "version": 3
      },
      "file_extension": ".py",
      "mimetype": "text/x-python",
      "name": "python",
      "nbconvert_exporter": "python",
      "pygments_lexer": "ipython3",
      "version": "3.9.13"
    }
  },
  "nbformat": 4,
  "nbformat_minor": 0
}
